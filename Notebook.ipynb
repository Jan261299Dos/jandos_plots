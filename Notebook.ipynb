{
 "cells": [
  {
   "cell_type": "code",
   "execution_count": 1,
   "metadata": {
    "collapsed": true,
    "execution": {
     "iopub.execute_input": "2023-06-10T11:04:45.783120Z",
     "iopub.status.busy": "2023-06-10T11:04:45.783120Z",
     "iopub.status.idle": "2023-06-10T11:04:46.537291Z",
     "shell.execute_reply": "2023-06-10T11:04:46.537291Z"
    }
   },
   "outputs": [],
   "source": [
    "import matplotlib.pyplot as plt\n",
    "import glob\n",
    "\n",
    "# Get the paths of all plot files in the 'plots' folder\n",
    "plot_paths = glob.glob('plots/*.png')\n",
    "\n",
    "# Display the plots in the notebook\n",
    "for path in plot_paths:\n",
    "    img = plt.imread(path)\n",
    "    plt.imshow(img)\n",
    "    plt.axis('off')\n",
    "    plt.show()\n",
    "\n"
   ]
  }
 ],
 "metadata": {
  "kernelspec": {
   "display_name": "Python 3",
   "language": "python",
   "name": "python3"
  },
  "language_info": {
   "codemirror_mode": {
    "name": "ipython",
    "version": 3
   },
   "file_extension": ".py",
   "mimetype": "text/x-python",
   "name": "python",
   "nbconvert_exporter": "python",
   "pygments_lexer": "ipython3",
   "version": "3.11.2"
  }
 },
 "nbformat": 4,
 "nbformat_minor": 0
}
